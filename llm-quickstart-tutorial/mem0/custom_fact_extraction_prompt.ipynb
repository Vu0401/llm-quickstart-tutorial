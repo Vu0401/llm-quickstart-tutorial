{
 "cells": [
  {
   "cell_type": "markdown",
   "metadata": {},
   "source": [
    "### **🎯 Custom Fact Extraction Prompt**\n",
    "\n",
    "Customize how your agent extracts structured facts — tailored to your domain or use case.\n",
    "\n",
    "#### 🧩 Why it matters\n",
    "\n",
    "Mem0 lets you define a **custom prompt** to control how facts are extracted from user messages.  \n",
    "Perfect for:\n",
    "\n",
    "- Domain-specific info extraction  \n",
    "- Structured memory population  \n",
    "- Preprocessing for downstream logic\n",
    "\n",
    "#### ✍️ Design Tips\n",
    "\n",
    "1. 🎯 Clearly specify what to extract  \n",
    "2. 💡 Use few-shot examples to guide the LLM  \n",
    "3. 📐 Keep the output format clean and machine-readable  \n",
    "\n",
    "📚 See full docs → [Custom Fact Extraction Prompt](https://docs.mem0.ai/open-source/features/custom-fact-extraction-prompt)"
   ]
  },
  {
   "cell_type": "markdown",
   "metadata": {},
   "source": [
    "## Load env"
   ]
  },
  {
   "cell_type": "code",
   "execution_count": null,
   "metadata": {},
   "outputs": [],
   "source": [
    "from dotenv import load_dotenv\n",
    "import os\n",
    "load_dotenv()\n",
    "\n",
    "GOOGLE_API_KEY = os.getenv('GOOGLE_API_KEY')"
   ]
  },
  {
   "cell_type": "code",
   "execution_count": 1,
   "metadata": {},
   "outputs": [],
   "source": [
    "custom_fact_extraction_prompt = \"\"\"\n",
    "Please only extract entities containing customer support information, order details, and user information. \n",
    "Here are some few shot examples:\n",
    "\n",
    "Input: Hi.\n",
    "Output: {{\"facts\" : []}}\n",
    "\n",
    "Input: The weather is nice today.\n",
    "Output: {{\"facts\" : []}}\n",
    "\n",
    "Input: My order #12345 hasn't arrived yet.\n",
    "Output: {{\"facts\" : [\"Order #12345 not received\"]}}\n",
    "\n",
    "Input: I'm John Doe, and I'd like to return the shoes I bought last week.\n",
    "Output: {{\"facts\" : [\"Customer name: John Doe\", \"Wants to return shoes\", \"Purchase made last week\"]}}\n",
    "\n",
    "Input: I ordered a red shirt, size medium, but received a blue one instead.\n",
    "Output: {{\"facts\" : [\"Ordered red shirt, size medium\", \"Received blue shirt instead\"]}}\n",
    "\n",
    "Return the facts and customer information in a json format as shown above.\n",
    "\"\"\""
   ]
  },
  {
   "cell_type": "code",
   "execution_count": 2,
   "metadata": {},
   "outputs": [
    {
     "name": "stderr",
     "output_type": "stream",
     "text": [
      "/home/pc/Documents/repo/llm-quickstart-tutorial/.venv/lib/python3.13/site-packages/tqdm/auto.py:21: TqdmWarning: IProgress not found. Please update jupyter and ipywidgets. See https://ipywidgets.readthedocs.io/en/stable/user_install.html\n",
      "  from .autonotebook import tqdm as notebook_tqdm\n"
     ]
    }
   ],
   "source": [
    "from mem0 import Memory\n",
    "\n",
    "config = {\n",
    "    \"llm\": {\n",
    "        # Provider-specific settings go here - https://docs.mem0.ai/components/llms/config\n",
    "        \"provider\": \"gemini\",\n",
    "        \"config\": {\n",
    "            \"model\": \"gemini-2.0-flash\",\n",
    "            \"temperature\": 0\n",
    "        }\n",
    "    },\n",
    "    \"embedder\": {\n",
    "        # Provider-specific settings go here - https://docs.mem0.ai/components/embedders/config\n",
    "        \"provider\": \"gemini\",\n",
    "        \"config\": {\n",
    "            \"model\": \"embedding-001\",\n",
    "            \"embedding_dims\":768\n",
    "        }\n",
    "    },\n",
    "    \"custom_fact_extraction_prompt\": custom_fact_extraction_prompt,\n",
    "    \"version\": \"v1.1\"\n",
    "}\n",
    "\n",
    "m = Memory.from_config(config_dict=config)"
   ]
  },
  {
   "cell_type": "code",
   "execution_count": null,
   "metadata": {},
   "outputs": [
    {
     "name": "stderr",
     "output_type": "stream",
     "text": [
      "ERROR:root:Error in new_retrieved_facts: Expecting property name enclosed in double quotes: line 1 column 2 (char 1)\n"
     ]
    }
   ],
   "source": [
    "# ⚠️ If you see an error like \"Expecting property name enclosed in double quotes...\", it likely means the LLM returned invalid JSON — consider switching to a different LLM.\n",
    "m.add(\"Yesterday, I ordered a laptop, the order id is 12345\", user_id=\"alice\")"
   ]
  }
 ],
 "metadata": {
  "kernelspec": {
   "display_name": ".venv",
   "language": "python",
   "name": "python3"
  },
  "language_info": {
   "codemirror_mode": {
    "name": "ipython",
    "version": 3
   },
   "file_extension": ".py",
   "mimetype": "text/x-python",
   "name": "python",
   "nbconvert_exporter": "python",
   "pygments_lexer": "ipython3",
   "version": "3.13.3"
  }
 },
 "nbformat": 4,
 "nbformat_minor": 2
}
