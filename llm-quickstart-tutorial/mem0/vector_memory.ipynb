{
 "cells": [
  {
   "cell_type": "markdown",
   "metadata": {},
   "source": [
    "### **🧠 Vector memory**\n",
    "\n",
    "Mem0 works out of the box with many popular vector databases — giving your agents fast, scalable memory.\n",
    "\n",
    "#### ✅ Currently Supported\n",
    "\n",
    "Mem0 supports a wide range of vector databases like **Qdrant, Chroma, FAISS, Redis, Pinecone, Weaviate**, and more.\n",
    "\n",
    "\n",
    "#### 📌 Heads-up\n",
    "\n",
    "- **Python**: Full integration with most vector DBs  \n",
    "- **TypeScript**: Limited support for now, but expanding fast\n",
    "\n",
    "📚 See full docs → [Vector memory](https://docs.mem0.ai/components/vectordbs/overview)"
   ]
  },
  {
   "cell_type": "markdown",
   "metadata": {},
   "source": [
    "## Load env"
   ]
  },
  {
   "cell_type": "code",
   "execution_count": null,
   "metadata": {},
   "outputs": [],
   "source": [
    "from dotenv import load_dotenv\n",
    "import os\n",
    "load_dotenv()\n",
    "\n",
    "GOOGLE_API_KEY = os.getenv('GOOGLE_API_KEY')"
   ]
  },
  {
   "cell_type": "markdown",
   "metadata": {},
   "source": [
    "## Vector memory example using Chroma provider"
   ]
  },
  {
   "cell_type": "code",
   "execution_count": 7,
   "metadata": {},
   "outputs": [
    {
     "data": {
      "text/plain": [
       "{'results': [{'id': 'dfaf6b3b-9055-4992-8519-68b444c13aad',\n",
       "   'memory': 'Not a fan of thriller movies',\n",
       "   'event': 'ADD'},\n",
       "  {'id': '5e3337c1-3dcd-4b1e-bfb2-ef340bc254c3',\n",
       "   'memory': 'Loves sci-fi movies',\n",
       "   'event': 'ADD'}]}"
      ]
     },
     "execution_count": 7,
     "metadata": {},
     "output_type": "execute_result"
    }
   ],
   "source": [
    "from mem0 import Memory\n",
    "\n",
    "config = {\n",
    "    \"llm\": {\n",
    "        # Provider-specific settings go here - https://docs.mem0.ai/components/llms/config\n",
    "        \"provider\": \"gemini\",\n",
    "        \"config\": {\n",
    "            \"model\": \"gemini-2.0-flash\",\n",
    "            \"temperature\": 0\n",
    "        }\n",
    "    },\n",
    "    \"embedder\": {\n",
    "        # Provider-specific settings go here - https://docs.mem0.ai/components/embedders/config\n",
    "        \"provider\": \"gemini\",\n",
    "        \"config\": {\n",
    "            \"model\": \"embedding-001\",\n",
    "            \"embedding_dims\":768\n",
    "        }\n",
    "    },\n",
    "    \"vector_store\": {\n",
    "        # Provider-specific settings go here - https://docs.mem0.ai/components/vectordbs/overview\n",
    "        \"provider\": \"chroma\", \n",
    "        \"config\": {\n",
    "            \"collection_name\": \"test\",\n",
    "            \"path\": \".db\",\n",
    "        }\n",
    "    }\n",
    "}\n",
    "\n",
    "m = Memory.from_config(config)\n",
    "messages = [\n",
    "    {\"role\": \"user\", \"content\": \"I'm planning to watch a movie tonight. Any recommendations?\"},\n",
    "    {\"role\": \"assistant\", \"content\": \"How about a thriller movies? They can be quite engaging.\"},\n",
    "    {\"role\": \"user\", \"content\": \"I’m not a big fan of thriller movies but I love sci-fi movies.\"},\n",
    "    {\"role\": \"assistant\", \"content\": \"Got it! I'll avoid thriller recommendations and suggest sci-fi movies in the future.\"}\n",
    "]\n",
    "m.add(messages, user_id=\"alice\", metadata={\"category\": \"movies\"})"
   ]
  }
 ],
 "metadata": {
  "kernelspec": {
   "display_name": ".venv",
   "language": "python",
   "name": "python3"
  },
  "language_info": {
   "codemirror_mode": {
    "name": "ipython",
    "version": 3
   },
   "file_extension": ".py",
   "mimetype": "text/x-python",
   "name": "python",
   "nbconvert_exporter": "python",
   "pygments_lexer": "ipython3",
   "version": "3.13.3"
  }
 },
 "nbformat": 4,
 "nbformat_minor": 2
}
