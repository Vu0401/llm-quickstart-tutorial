{
 "cells": [
  {
   "cell_type": "markdown",
   "metadata": {},
   "source": []
  },
  {
   "cell_type": "code",
   "execution_count": null,
   "metadata": {},
   "outputs": [
    {
     "data": {
      "text/plain": [
       "{'results': [{'id': '0e53aad8-0e94-41a4-a548-e264dc1393d9',\n",
       "   'memory': 'Not a fan of thriller movies',\n",
       "   'event': 'ADD'},\n",
       "  {'id': 'ebd1084a-d428-413e-b372-1863669f784d',\n",
       "   'memory': 'Loves sci-fi movies',\n",
       "   'event': 'ADD'}]}"
      ]
     },
     "execution_count": 6,
     "metadata": {},
     "output_type": "execute_result"
    }
   ],
   "source": [
    "import os\n",
    "from mem0 import Memory\n",
    "\n",
    "GOOGLE_API_KEY = os.getenv('GOOGLE_API_KEY')\n",
    "\n",
    "config = {\n",
    "    \"llm\": {\n",
    "        \"provider\": \"gemini\",\n",
    "        \"config\": {\n",
    "            \"model\": \"gemini-2.0-flash\",\n",
    "            \"temperature\": 0\n",
    "        }\n",
    "    },\n",
    "    \"embedder\": {\n",
    "        \"provider\": \"gemini\",\n",
    "        \"config\": {\n",
    "            \"model\": \"embedding-001\",\n",
    "            \"embedding_dims\":768\n",
    "        }\n",
    "    },\n",
    "    \"vector_store\": {\n",
    "        \"provider\": \"chroma\", # Provider-specific settings go here - https://docs.mem0.ai/components/vectordbs/overview\n",
    "        \"config\": {\n",
    "            \"collection_name\": \"test\",\n",
    "            \"path\": \"db\",\n",
    "        }\n",
    "    }\n",
    "}\n",
    "\n",
    "m = Memory.from_config(config)\n",
    "messages = [\n",
    "    {\"role\": \"user\", \"content\": \"I'm planning to watch a movie tonight. Any recommendations?\"},\n",
    "    {\"role\": \"assistant\", \"content\": \"How about a thriller movies? They can be quite engaging.\"},\n",
    "    {\"role\": \"user\", \"content\": \"I’m not a big fan of thriller movies but I love sci-fi movies.\"},\n",
    "    {\"role\": \"assistant\", \"content\": \"Got it! I'll avoid thriller recommendations and suggest sci-fi movies in the future.\"}\n",
    "]\n",
    "m.add(messages, user_id=\"alice\", metadata={\"category\": \"movies\"})"
   ]
  }
 ],
 "metadata": {
  "kernelspec": {
   "display_name": ".venv",
   "language": "python",
   "name": "python3"
  },
  "language_info": {
   "codemirror_mode": {
    "name": "ipython",
    "version": 3
   },
   "file_extension": ".py",
   "mimetype": "text/x-python",
   "name": "python",
   "nbconvert_exporter": "python",
   "pygments_lexer": "ipython3",
   "version": "3.13.3"
  }
 },
 "nbformat": 4,
 "nbformat_minor": 2
}
