{
 "cells": [
  {
   "cell_type": "markdown",
   "metadata": {},
   "source": [
    "### Setup and Connect to Neo4j Aura\n"
   ]
  },
  {
   "cell_type": "code",
   "execution_count": 12,
   "metadata": {},
   "outputs": [
    {
     "data": {
      "text/plain": [
       "True"
      ]
     },
     "execution_count": 12,
     "metadata": {},
     "output_type": "execute_result"
    }
   ],
   "source": [
    "from dotenv import load_dotenv\n",
    "import os\n",
    "load_dotenv()"
   ]
  },
  {
   "cell_type": "code",
   "execution_count": 13,
   "metadata": {},
   "outputs": [
    {
     "name": "stdout",
     "output_type": "stream",
     "text": [
      "Connected to Neo4j Aura!\n"
     ]
    }
   ],
   "source": [
    "# Update these with your Neo4j Aura credentials\n",
    "AURA_URI = os.getenv('NEO4J_URL')\n",
    "AURA_USERNAME = os.getenv('NEO4J_USERNAME')\n",
    "AURA_PASSWORD = os.getenv('NEO4J_PASSWORD')\n",
    "\n",
    "from neo4j import GraphDatabase\n",
    "\n",
    "# Connect to Neo4j Aura\n",
    "driver = GraphDatabase.driver(AURA_URI, auth=(AURA_USERNAME, AURA_PASSWORD))\n",
    "print(\"Connected to Neo4j Aura!\")"
   ]
  },
  {
   "cell_type": "markdown",
   "metadata": {},
   "source": [
    "### Clear the database"
   ]
  },
  {
   "cell_type": "code",
   "execution_count": 14,
   "metadata": {},
   "outputs": [
    {
     "name": "stdout",
     "output_type": "stream",
     "text": [
      "Database cleared.\n"
     ]
    }
   ],
   "source": [
    "# Define function to clear the database\n",
    "def clear_database(tx):\n",
    "    tx.run(\"MATCH (n) DETACH DELETE n\")\n",
    "    print(\"Database cleared.\")\n",
    "with driver.session() as session:\n",
    "    session.execute_write(clear_database)"
   ]
  },
  {
   "cell_type": "markdown",
   "metadata": {},
   "source": [
    "### Add a Node with Properties"
   ]
  },
  {
   "cell_type": "code",
   "execution_count": 15,
   "metadata": {},
   "outputs": [
    {
     "name": "stdout",
     "output_type": "stream",
     "text": [
      "Added Person: Alice, Age: 25, City: New York\n"
     ]
    }
   ],
   "source": [
    "def add_person(tx, name: str, age: int, city: str):\n",
    "    tx.run(\"CREATE (p:Person {name: $name, age: $age, city: $city})\", \n",
    "           name=name, age=age, city=city)\n",
    "    print(f\"Added Person: {name}, Age: {age}, City: {city}\")\n",
    "\n",
    "with driver.session() as session:\n",
    "    session.execute_write(add_person, name=\"Alice\", age=25, city=\"New York\")"
   ]
  },
  {
   "cell_type": "markdown",
   "metadata": {},
   "source": [
    "### Add Another Node with Properties"
   ]
  },
  {
   "cell_type": "code",
   "execution_count": 16,
   "metadata": {},
   "outputs": [
    {
     "name": "stdout",
     "output_type": "stream",
     "text": [
      "Added Person: Bob, Age: 30, City: London\n"
     ]
    }
   ],
   "source": [
    "def add_person(tx, name: str, age: int, city: str):\n",
    "    tx.run(\"CREATE (p:Person {name: $name, age: $age, city: $city})\", \n",
    "           name=name, age=age, city=city)\n",
    "    print(f\"Added Person: {name}, Age: {age}, City: {city}\")\n",
    "\n",
    "with driver.session() as session:\n",
    "    session.execute_write(add_person, name=\"Bob\", age=30, city=\"London\")"
   ]
  },
  {
   "cell_type": "markdown",
   "metadata": {},
   "source": [
    "### Add a Relationship"
   ]
  },
  {
   "cell_type": "code",
   "execution_count": 17,
   "metadata": {},
   "outputs": [
    {
     "name": "stdout",
     "output_type": "stream",
     "text": [
      "Added FRIEND_WITH relationship: Alice -> Bob\n"
     ]
    }
   ],
   "source": [
    "def add_relationship(tx, name1: str, name2: str, rel_type: str):\n",
    "    tx.run(\n",
    "        \"MATCH (p1:Person {name: $name1}), (p2:Person {name: $name2}) \"\n",
    "        \"CREATE (p1)-[r:\" + rel_type + \"]->(p2)\",\n",
    "        name1=name1, name2=name2\n",
    "    )\n",
    "    print(f\"Added {rel_type} relationship: {name1} -> {name2}\")\n",
    "\n",
    "with driver.session() as session:\n",
    "    session.execute_write(add_relationship, name1=\"Alice\", name2=\"Bob\", rel_type = \"FRIEND_WITH\")"
   ]
  },
  {
   "cell_type": "code",
   "execution_count": 18,
   "metadata": {},
   "outputs": [
    {
     "name": "stdout",
     "output_type": "stream",
     "text": [
      "Removed BEST_FRIENDS_WITH relationship: Alice -> Bob\n"
     ]
    }
   ],
   "source": [
    "def remove_relationship(tx, name1: str, name2: str, rel_type: str):\n",
    "    tx.run(\n",
    "        \"MATCH (p1:Person {name: $name1})-[r:\" + rel_type + \"]->(p2:Person {name: $name2}) \"\n",
    "        \"DELETE r\",\n",
    "        name1=name1, name2=name2\n",
    "    )\n",
    "    print(f\"Removed {rel_type} relationship: {name1} -> {name2}\")\n",
    "    \n",
    "with driver.session() as session:\n",
    "    session.execute_write(remove_relationship, name1=\"Alice\", name2=\"Bob\", rel_type = \"BEST_FRIENDS_WITH\")"
   ]
  },
  {
   "cell_type": "markdown",
   "metadata": {},
   "source": [
    "### Query a Node's Properties"
   ]
  },
  {
   "cell_type": "code",
   "execution_count": 19,
   "metadata": {},
   "outputs": [
    {
     "name": "stdout",
     "output_type": "stream",
     "text": [
      "Name: Alice, Age: 25, City: New York\n"
     ]
    }
   ],
   "source": [
    "def get_person_details(tx, name: str):\n",
    "    result = tx.run(\"MATCH (p:Person {name: $name}) RETURN p.name, p.age, p.city\", name=name)\n",
    "    for record in result:\n",
    "        print(f\"Name: {record['p.name']}, Age: {record['p.age']}, City: {record['p.city']}\")\n",
    "\n",
    "with driver.session() as session:\n",
    "    session.execute_read(get_person_details, name=\"Alice\")"
   ]
  },
  {
   "cell_type": "markdown",
   "metadata": {},
   "source": [
    "### Query Relationships"
   ]
  },
  {
   "cell_type": "code",
   "execution_count": 20,
   "metadata": {},
   "outputs": [],
   "source": [
    "def get_friends(tx, name: str):\n",
    "    result = tx.run(\n",
    "        \"MATCH (p:Person {name: $name})-[:FRIENDS_WITH]->(friend:Person) \"\n",
    "        \"RETURN friend.name, friend.age, friend.city\",\n",
    "        name=name\n",
    "    )\n",
    "    for record in result:\n",
    "        print(f\"Friend: {record['friend.name']}, Age: {record['friend.age']}, City: {record['friend.city']}\")\n",
    "\n",
    "with driver.session() as session:\n",
    "    session.execute_read(get_friends, name=\"Alice\")"
   ]
  },
  {
   "cell_type": "markdown",
   "metadata": {},
   "source": [
    "### Change a Relationship"
   ]
  },
  {
   "cell_type": "code",
   "execution_count": 21,
   "metadata": {},
   "outputs": [
    {
     "name": "stdout",
     "output_type": "stream",
     "text": [
      "Removed FRIEND_WITH relationship: Alice -> Bob\n",
      "Added BEST_FRIEND_WITH relationship: Alice -> Bob\n"
     ]
    }
   ],
   "source": [
    "def change_relationship(tx, name1: str, name2: str, old_rel_type: str, new_rel_type: str):\n",
    "    # Remove the existing relationship\n",
    "    remove_relationship(tx, name1, name2, old_rel_type)\n",
    "    # Add the new relationship\n",
    "    add_relationship(tx, name1, name2, new_rel_type)\n",
    "    \n",
    "# Example usage\n",
    "with driver.session() as session:\n",
    "    session.execute_write(change_relationship, name1=\"Alice\", name2=\"Bob\", old_rel_type=\"FRIEND_WITH\", new_rel_type=\"BEST_FRIEND_WITH\")"
   ]
  },
  {
   "cell_type": "markdown",
   "metadata": {},
   "source": [
    "### Delete a Node"
   ]
  },
  {
   "cell_type": "code",
   "execution_count": 22,
   "metadata": {},
   "outputs": [
    {
     "name": "stdout",
     "output_type": "stream",
     "text": [
      "Deleted Person: Bob\n"
     ]
    }
   ],
   "source": [
    "def delete_person(tx, name: str):\n",
    "    tx.run(\"MATCH (p:Person {name: $name}) DETACH DELETE p\", name=name)\n",
    "    print(f\"Deleted Person: {name}\")\n",
    "\n",
    "with driver.session() as session:\n",
    "    session.execute_write(delete_person, name=\"Bob\")"
   ]
  },
  {
   "cell_type": "markdown",
   "metadata": {},
   "source": [
    "### Close the Connection"
   ]
  },
  {
   "cell_type": "code",
   "execution_count": 23,
   "metadata": {},
   "outputs": [
    {
     "name": "stdout",
     "output_type": "stream",
     "text": [
      "Connection closed.\n"
     ]
    }
   ],
   "source": [
    "driver.close()\n",
    "print(\"Connection closed.\")"
   ]
  }
 ],
 "metadata": {
  "kernelspec": {
   "display_name": ".venv",
   "language": "python",
   "name": "python3"
  },
  "language_info": {
   "codemirror_mode": {
    "name": "ipython",
    "version": 3
   },
   "file_extension": ".py",
   "mimetype": "text/x-python",
   "name": "python",
   "nbconvert_exporter": "python",
   "pygments_lexer": "ipython3",
   "version": "3.13.4"
  }
 },
 "nbformat": 4,
 "nbformat_minor": 2
}
